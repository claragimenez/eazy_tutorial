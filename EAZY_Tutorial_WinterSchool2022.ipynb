{
 "cells": [
  {
   "cell_type": "markdown",
   "id": "51079322",
   "metadata": {},
   "source": [
    "# DAWN Winter School 2022 \n",
    "### - EAZY Tutorial\n",
    "\n",
    "This tutorial will show and provide the basics of fitting photometric data with the SED-fitting code EAZY (Brammer et al. 2008). In this example, we will be fitting the Hubble Deep Field North (HDFN) catalog provided with the original EAZY code.\n",
    "\n",
    "This tutorial will mostly rely on eazy-py (https://github.com/gbrammer/eazy-py).\n",
    "\n",
    "This tutorial will focus on fitting photometry to derive photometric redshifts and physical quantities, which we will explore to understand the targets in our catalog. We will use different selection criteria, look for interesting objects in the catalog, amongst other things."
   ]
  },
  {
   "cell_type": "markdown",
   "id": "b6aeda0c",
   "metadata": {},
   "source": [
    "### Demo fitting the HDFN catalog provided with the original EAZY code"
   ]
  },
  {
   "cell_type": "code",
   "execution_count": 1,
   "id": "93ab17c4",
   "metadata": {},
   "outputs": [],
   "source": [
    "%matplotlib inline"
   ]
  },
  {
   "cell_type": "code",
   "execution_count": 2,
   "id": "6c4dca53",
   "metadata": {},
   "outputs": [],
   "source": [
    "# environment installation for hosted notebooks\n",
    "# (e.g., mybinder, GoogleCollab)\n",
    "import os\n",
    "orig_wd = os.getcwd()\n",
    "\n",
    "try:\n",
    "    import eazy\n",
    "    HAS_EAZY = True\n",
    "except:\n",
    "    HAS_EAZY = False\n",
    "\n",
    "# mybinder\n",
    "if ('jovyan' in orig_wd):\n",
    "    if not HAS_EAZY:\n",
    "        print('Install on /home/jovyan')\n",
    "\n",
    "        os.chdir('/home/jovyan')\n",
    "        !pip install . -r requirements.txt\n",
    "\n",
    "        os.chdir(orig_wd)\n",
    "    \n",
    "    try:\n",
    "        import grizli\n",
    "    except:\n",
    "        !pip install cython\n",
    "        !pip install git+https://github.com/gbrammer/grizli\n",
    "            \n",
    "    try:\n",
    "        print('EAZYCODE = '+os.getenv('EAZYCODE'))\n",
    "    except:\n",
    "        %env EAZYCODE=/home/jovyan/eazy-photoz/\n",
    "\n",
    "# Google collab\n",
    "if ('/content' in orig_wd):\n",
    "    if not HAS_EAZY:\n",
    "        print('Install on /content (Google Collab')\n",
    "\n",
    "        os.chdir('/content')\n",
    "        !git clone https://github.com/gbrammer/eazy-py.git --recurse-submodule\n",
    "        os.chdir('/content/eazy-py')\n",
    "        !pip install . -r requirements.txt\n",
    "\n",
    "        os.chdir(orig_wd)\n",
    "    \n",
    "    try:\n",
    "        import grizli\n",
    "    except:\n",
    "        !pip install cython\n",
    "        !pip install git+https://github.com/gbrammer/grizli\n",
    "            \n",
    "    try:\n",
    "        print('EAZYCODE = '+os.getenv('EAZYCODE'))\n",
    "    except:\n",
    "        %env EAZYCODE=/content/eazy-py/eazy-photoz/\n"
   ]
  },
  {
   "cell_type": "code",
   "execution_count": 3,
   "id": "279a82ec",
   "metadata": {},
   "outputs": [
    {
     "name": "stdout",
     "output_type": "stream",
     "text": [
      "Fri Feb  4 12:58:24 2022\n",
      "\n",
      "3.6.10 |Anaconda, Inc.| (default, May  7 2020, 23:06:31) \n",
      "[GCC 4.2.1 Compatible Clang 4.0.1 (tags/RELEASE_401/final)]\n",
      "\n",
      "               numpy : 1.19.2\n",
      "               scipy : 1.5.2\n",
      "          matplotlib : 3.3.1\n",
      "             astropy : 4.0.1.post1\n",
      "                eazy : 0.4-3-gd86432e\n",
      "            prospect : 1.0.0\n"
     ]
    }
   ],
   "source": [
    "# Module versions\n",
    "import importlib\n",
    "import sys\n",
    "import time\n",
    "print(time.ctime() + '\\n')\n",
    "\n",
    "print(sys.version + '\\n')\n",
    "\n",
    "for module in ['numpy', 'scipy', 'matplotlib','astropy','eazy', 'prospect']:\n",
    "    #print(module)\n",
    "    mod = importlib.import_module(module)\n",
    "    print('{0:>20} : {1}'.format(module, mod.__version__))"
   ]
  },
  {
   "cell_type": "code",
   "execution_count": 6,
   "id": "dcd3e528",
   "metadata": {},
   "outputs": [
    {
     "name": "stdout",
     "output_type": "stream",
     "text": [
      "EAZYCODE = /Users/arteaga/eazy-py/eazy-photoz/\n"
     ]
    }
   ],
   "source": [
    "import os\n",
    "import numpy as np\n",
    "import matplotlib.pyplot as plt\n",
    "\n",
    "import eazy\n",
    "\n",
    "# Symlink templates & filters from the eazy-code repository\n",
    "try:\n",
    "    print('EAZYCODE = '+os.getenv('EAZYCODE'))\n",
    "except:\n",
    "    pass\n",
    "\n",
    "if not os.path.exists('templates'):\n",
    "    eazy.symlink_eazy_inputs() "
   ]
  },
  {
   "cell_type": "code",
   "execution_count": 7,
   "id": "0d05453e",
   "metadata": {},
   "outputs": [],
   "source": [
    "# quiet numpy/astropy warnings\n",
    "import warnings\n",
    "from astropy.utils.exceptions import AstropyWarning\n",
    "\n",
    "np.seterr(all='ignore')\n",
    "warnings.simplefilter('ignore', category=AstropyWarning)"
   ]
  },
  {
   "cell_type": "markdown",
   "id": "41d6e40d",
   "metadata": {},
   "source": [
    "### Fit Input Parameters\n",
    "\n",
    "Default parameters are stored in the file `eazy/data/zphot.param.default` in the repository.\n",
    "\n",
    "The parameters are necessary to fit the catalog, here one specifies the catalog file, the templates to be used in the fitting, the redshift grid, etc. The user input is transparent and easy to implement. The parameters that differ from defaults can be provided in a dictionary as shown below."
   ]
  },
  {
   "cell_type": "code",
   "execution_count": 8,
   "id": "1a8c3578",
   "metadata": {},
   "outputs": [],
   "source": [
    "params = {}\n",
    "\n",
    "# Catalog file\n",
    "params['CATALOG_FILE'] = os.path.join(os.getenv('EAZYCODE'), 'inputs/hdfn_fs99_eazy.cat')\n",
    "\n",
    "params['MAIN_OUTPUT_FILE'] = 'hdfn.eazypy'\n",
    "\n",
    "# Galactic extinction\n",
    "params['MW_EBV'] = 0.0103\n",
    "params['CAT_HAS_EXTCORR'] = True\n",
    "\n",
    "# Redshift grid (minimum, maximum and grid step)\n",
    "params['Z_STEP'] = 0.01\n",
    "params['Z_MIN'] = 0.01\n",
    "params['Z_MAX'] = 6.\n",
    "\n",
    "# Prior files\n",
    "params['PRIOR_ABZP'] = 25 \n",
    "params['PRIOR_FILTER'] = 28 # K\n",
    "params['PRIOR_FILE'] = 'templates/prior_K_TAO.dat'\n",
    "\n",
    "# Template set to fit photometry\n",
    "params['TEMPLATES_FILE'] = 'templates/fsps_full/tweak_fsps_QSF_12_v3.param'\n",
    "\n",
    "# Fix spectroscopic redshift\n",
    "params['FIX_ZSPEC'] = False\n",
    "\n",
    "# IGM parameters\n",
    "params['IGM_SCALE_TAU'] = 1.0"
   ]
  },
  {
   "cell_type": "code",
   "execution_count": 9,
   "id": "134e68fd",
   "metadata": {},
   "outputs": [
    {
     "name": "stdout",
     "output_type": "stream",
     "text": [
      "Read default param file: /Users/arteaga/miniconda3/envs/grizli-dev/lib/python3.6/site-packages/eazy/data/zphot.param.default\n",
      "Read CATALOG_FILE: /Users/arteaga/eazy-py/eazy-photoz/inputs/hdfn_fs99_eazy.cat\n",
      "   >>> NOBJ = 1067\n",
      "f_f300w e_f300w ( 10): hst/wfpc2_f300w.dat\n",
      "f_f450w e_f450w ( 12): hst/wfpc2_f450w.dat\n",
      "f_f606w e_f606w ( 14): hst/wfpc2_f606w.dat\n",
      "f_f814w e_f814w ( 16): hst/wfpc2_f814w.dat\n",
      "f_irimj e_irimj ( 26): KPNO/IRIMJ\n",
      "f_irimh e_irimh ( 27): KPNO/IRIMH\n",
      "f_irimk e_irimk ( 28): KPNO/IRIMK\n",
      "Read PRIOR_FILE:  templates/prior_K_TAO.dat\n",
      "Template grid: templates/fsps_full/tweak_fsps_QSF_12_v3.param (this may take some time)\n",
      "Process template tweak_fsps_QSF_12_v3_001.dat (NZ=1).\n",
      "Process template tweak_fsps_QSF_12_v3_002.dat (NZ=1).\n",
      "Process template tweak_fsps_QSF_12_v3_003.dat (NZ=1).\n",
      "Process template tweak_fsps_QSF_12_v3_004.dat (NZ=1).\n",
      "Process template tweak_fsps_QSF_12_v3_005.dat (NZ=1).\n",
      "Process template tweak_fsps_QSF_12_v3_006.dat (NZ=1).\n",
      "Process template tweak_fsps_QSF_12_v3_007.dat (NZ=1).\n",
      "Process template tweak_fsps_QSF_12_v3_008.dat (NZ=1).\n",
      "Process template tweak_fsps_QSF_12_v3_009.dat (NZ=1).\n",
      "Process template tweak_fsps_QSF_12_v3_010.dat (NZ=1).\n",
      "Process template tweak_fsps_QSF_12_v3_011.dat (NZ=1).\n",
      "Process template tweak_fsps_QSF_12_v3_012.dat (NZ=1).\n",
      "Process templates: 1.401 s\n"
     ]
    }
   ],
   "source": [
    "# The translate file will read in the filter bandpasses from the catalog\n",
    "translate_file = os.path.join(os.getenv('EAZYCODE'), 'inputs/zphot.translate')\n",
    "\n",
    "# Here we read in the catalog, templates and filters\n",
    "self = eazy.photoz.PhotoZ(param_file=None, translate_file=translate_file, zeropoint_file=None, \n",
    "                          params=params, load_prior=True, load_products=False)"
   ]
  },
  {
   "cell_type": "markdown",
   "id": "85461676",
   "metadata": {},
   "source": [
    "### Now we fit the whole catalog\n",
    "\n",
    "With the command `self.fit_catalog`, we fit the input catalog."
   ]
  },
  {
   "cell_type": "code",
   "execution_count": 12,
   "id": "e8e77630",
   "metadata": {},
   "outputs": [
    {
     "ename": "AttributeError",
     "evalue": "'PhotoZ' object has no attribute 'fit_catalog'",
     "output_type": "error",
     "traceback": [
      "\u001b[0;31m---------------------------------------------------------------------------\u001b[0m",
      "\u001b[0;31mAttributeError\u001b[0m                            Traceback (most recent call last)",
      "\u001b[0;32m<ipython-input-12-81084007049e>\u001b[0m in \u001b[0;36m<module>\u001b[0;34m\u001b[0m\n\u001b[1;32m      6\u001b[0m \u001b[0;34m\u001b[0m\u001b[0m\n\u001b[1;32m      7\u001b[0m \u001b[0;31m# fit_parallel renamed to fit_catalog 14 May 2021\u001b[0m\u001b[0;34m\u001b[0m\u001b[0;34m\u001b[0m\u001b[0;34m\u001b[0m\u001b[0m\n\u001b[0;32m----> 8\u001b[0;31m \u001b[0mself\u001b[0m\u001b[0;34m.\u001b[0m\u001b[0mfit_catalog\u001b[0m\u001b[0;34m(\u001b[0m\u001b[0mself\u001b[0m\u001b[0;34m.\u001b[0m\u001b[0midx\u001b[0m\u001b[0;34m[\u001b[0m\u001b[0msample\u001b[0m\u001b[0;34m]\u001b[0m\u001b[0;34m,\u001b[0m \u001b[0mn_proc\u001b[0m\u001b[0;34m=\u001b[0m\u001b[0;36m8\u001b[0m\u001b[0;34m)\u001b[0m\u001b[0;34m\u001b[0m\u001b[0;34m\u001b[0m\u001b[0m\n\u001b[0m",
      "\u001b[0;31mAttributeError\u001b[0m: 'PhotoZ' object has no attribute 'fit_catalog'"
     ]
    }
   ],
   "source": [
    "# Turn off error corrections derived above\n",
    "self.set_sys_err(positive=True)\n",
    "\n",
    "# Full catalog\n",
    "sample = np.isfinite(self.cat['z_spec'])\n",
    "\n",
    "# fit_parallel renamed to fit_catalog 14 May 2021\n",
    "self.fit_catalog(self.idx[sample], n_proc=8)"
   ]
  },
  {
   "cell_type": "code",
   "execution_count": null,
   "id": "5c96aaba",
   "metadata": {},
   "outputs": [],
   "source": [
    "# Show zspec-zphot comparison\n",
    "fig = self.zphot_zspec()"
   ]
  },
  {
   "cell_type": "markdown",
   "id": "4e64999d",
   "metadata": {},
   "source": [
    "### Derived parameters (z params, RF colors, masses, SFR, etc.)\n",
    "\n",
    "With `self.standard_output` we can obtain the derived parameters from the fitting, this includes rest-frame colours, star formation rates, photometric redshifts, stellar masses, etc."
   ]
  },
  {
   "cell_type": "code",
   "execution_count": null,
   "id": "0939afc2",
   "metadata": {},
   "outputs": [],
   "source": [
    "warnings.simplefilter('ignore', category=RuntimeWarning)\n",
    "zout, hdu = self.standard_output(rf_pad_width=0.5, rf_max_err=2, \n",
    "                                 prior=True, beta_prior=True)\n",
    "\n",
    "# 'zout' also saved to [MAIN_OUTPUT_FILE].zout.fits"
   ]
  },
  {
   "cell_type": "code",
   "execution_count": null,
   "id": "7ab1457f",
   "metadata": {},
   "outputs": [],
   "source": [
    "# the 'zout' object has all the derived physical properties, which can be seen by using the command below:\n",
    "zout.colnames"
   ]
  },
  {
   "cell_type": "code",
   "execution_count": null,
   "id": "09ec8404",
   "metadata": {},
   "outputs": [],
   "source": [
    "# it also contains relevant information about the fit performed, templates used, etc. \n",
    "# this information can be accessed\n",
    "zout.meta"
   ]
  },
  {
   "cell_type": "markdown",
   "id": "5dc94d39",
   "metadata": {},
   "source": [
    "## Exploring the output\n",
    "\n",
    "Once we have fitted our catalog with EAZY and derived multiple physical parameters, we can explore the properties of our sample, as well as individual objects. Here we show some examples of different analyses that one can perform with the EAZY output."
   ]
  },
  {
   "cell_type": "markdown",
   "id": "d6f2d931",
   "metadata": {},
   "source": [
    "### UVJ diagram\n",
    "\n",
    "Part of what makes understanding galaxy evolution so challenging is the wealth of galaxy properties. Explaining the evolution of all these properties and the correlation between them is a daunting task. Two-colour diagrams have been shown to be a useful and simple mechanism for comprehending astronomical objects, in particular the $UVJ$ diagram, which is obtained by plotting the rest-frame $U − V$ versus $V − J$ colours.\n",
    "\n",
    "The $UVJ$ diagram separates quiescent from star forming galaxies (SFGs). It is particularly useful due to its ability to break the degeneracy between age and reddening for red galaxies: in most cases, galaxies with blue UV colours display rather dust-free star formation activity, whereas galaxies can appear red due to dust obscuration or being quiescent, since evolved older stellar populations will dominate. On the other hand, quiescent galaxies unobscured by dust are blue in $VJ$, therefore they will be in a different position than the SFGs in the $UVJ$ plane, leaving the two types of sources empirically set apart. Williams et al., 2009 (https://arxiv.org/abs/0806.0625), determined a border between the two regions that is still relevant and is being used in the present-day."
   ]
  },
  {
   "cell_type": "code",
   "execution_count": null,
   "id": "3e279321",
   "metadata": {},
   "outputs": [],
   "source": [
    "# Show UVJ diagram\n",
    "uv = -2.5*np.log10(zout['restU']/zout['restV'])\n",
    "vj = -2.5*np.log10(zout['restV']/zout['restJ'])\n",
    "ssfr = zout['sfr']/zout['mass']\n",
    "\n",
    "sel = (zout['z_phot'] > 0.2) & (zout['z_phot'] < 1)\n",
    "plt.scatter(vj[sel], uv[sel], c=np.log10(ssfr)[sel], \n",
    "            vmin=-13, vmax=-8, alpha=0.5)\n",
    "\n",
    "plt.xlim(-0.2, 2.3); plt.ylim(0, 2.4); plt.grid()\n",
    "plt.xlabel(r'$(V-J)_0$'); plt.ylabel(r'$(U-V)_0$')    "
   ]
  },
  {
   "attachments": {},
   "cell_type": "markdown",
   "id": "5abfbda5",
   "metadata": {},
   "source": [
    "As can be seen below, the $UVJ$ diagram can separate quiescent galaxies from star-forming galaxies, and moreover, break the degeneracy with dusty-star forming galaxies (which lay on the upper right end of the diagram).\n",
    "\n",
    "**[we are missing a plot here]**\n",
    "![UVJ]()\n",
    "\n"
   ]
  },
  {
   "cell_type": "markdown",
   "id": "33b94d2d",
   "metadata": {},
   "source": [
    "### Selecting bright objects\n",
    "\n",
    "Another exciting avenue is to select interesting objects, such as the brightest objects with z_spec > 1. The command `self.show_fit` allows us to plot the resulting SED-fit, as well as the redshift probability density function, where we can see the spectroscopic redshift and the photo-z PDF.\n",
    "\n",
    "Besides this, the `self.cat` contains the whole catalog, and can be used to perform different selections based on various criteria."
   ]
  },
  {
   "cell_type": "code",
   "execution_count": null,
   "id": "84ce814c",
   "metadata": {},
   "outputs": [],
   "source": [
    "# Show brightest objects with z_spec > 1\n",
    "imag = params['PRIOR_ABZP'] - 2.5*np.log10(self.cat['f_f814w'])\n",
    "sel = (self.cat['z_spec'] > 1.1)\n",
    "\n",
    "so = np.argsort(imag[sel])\n",
    "ids = self.cat['id'][sel][so]\n",
    "\n",
    "for i in range(4):\n",
    "    fig, data = self.show_fit(ids[i], xlim=[0.2, 3], show_components=True,\n",
    "                              logpz=True, zr=[0,4])"
   ]
  },
  {
   "cell_type": "markdown",
   "id": "18717c13",
   "metadata": {},
   "source": [
    "## Concluding Remarks\n",
    "\n",
    "This turorial has hopefully taught you to extract and derive basic galaxy properties from photometric data, including fitting photometric redshifts, exploring the UVJ diagram and its implications, analysing galaxy spectral energy distributions and selecting interesting objects from a large catalog.\n"
   ]
  },
  {
   "cell_type": "markdown",
   "id": "0adee390",
   "metadata": {},
   "source": [
    "# Proposed Exercises\n",
    "\n",
    "1. Find the most massive galaxy in the sample and the highest redshift candidate.\n",
    "\n",
    "---\n",
    "\n",
    "2. Explore the UVJ diagram, and make a sub-sample of quiescent galaxies according to the Williams+09 (https://arxiv.org/pdf/0806.0625.pdf) selection criteria.\n",
    "\n",
    "(U −V) > 0.88×(V −J)+0.69\n",
    "\n",
    "(U −V) > 0.88×(V −J)+0.59\n",
    "\n",
    "(U −V) > 0.88×(V −J)+0.49\n",
    "\n",
    "Additional criteria of U − V > 1.3 and V − J < 1.6 are applied to the quiescent galaxies at all redshifts to prevent contamination from unobscured and dusty star–forming galaxies, respectively.\n",
    "\n",
    "---\n",
    "\n",
    "3. Select the object with ID=**XXX [@Kate, find a dusty star forming galaxy with high Av that falls in the quiescent box but is actually star forming]**, and compare its spectral energy distribution (SED) with some SEDs from your previous quiescent galaxy population selection. Do they look the same? If not, why? You can also check its physical properties such as SFR and mass. Do you think the object with ID=**XXX** is a quiescent galaxy? If not, what kind of galaxy do you think it is? \n",
    "\n",
    "---\n",
    "\n",
    "4. Plot the PDF(z) of a quiescent galaxy, a blue star-forming galaxy and a red star-forming galaxy (you can use `self.show_fit` with `logpz=True`). Are there differences in the uncertainty on the photo-z for the different populations?\n",
    "\n",
    "---\n",
    "\n",
    "5. Try to find the most interesting object by your own liking/criteria (think about what most interesting could involve - brightest? highest mass? highest redshift? most quiescent?)\n",
    "\n",
    "---\n",
    "\n",
    "## Extra exercise\n",
    "\n",
    "6. Explore the redshift vs K-band relation and the redshift vs Mass for the whole catalog. What can you tell about completeness of the sample? **[Maybe cite some references here so they know what to look for?]**"
   ]
  }
 ],
 "metadata": {
  "kernelspec": {
   "display_name": "Python 3",
   "language": "python",
   "name": "python3"
  },
  "language_info": {
   "codemirror_mode": {
    "name": "ipython",
    "version": 3
   },
   "file_extension": ".py",
   "mimetype": "text/x-python",
   "name": "python",
   "nbconvert_exporter": "python",
   "pygments_lexer": "ipython3",
   "version": "3.6.10"
  }
 },
 "nbformat": 4,
 "nbformat_minor": 5
}
